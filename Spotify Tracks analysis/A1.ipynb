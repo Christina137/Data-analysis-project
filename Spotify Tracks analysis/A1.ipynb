{
 "cells": [
  {
   "cell_type": "raw",
   "metadata": {},
   "source": [
    "---\n",
    "title: STATS \n",
    "subtitle: Homework Assignment 1\n",
    "author: \"Haoyuan Chen\"\n",
    "date: 01/29/2024\n",
    "format: pdf\n",
    "header-includes:\n",
    "   - \\usepackage{amsmath}\n",
    "   - \\usepackage{bbm}\n",
    "   - \\usepackage{array}\n",
    "   - \\usepackage{multirow}\n",
    "   - \\usepackage{graphicx}\n",
    "   - \\usepackage{float}\n",
    "   - \\usepackage{apacite}\n",
    "   - \\usepackage{natbib}\n",
    "execute: \n",
    "  echo: true\n",
    "fontsize: 11pt\n",
    "geometry: margin = 1in\n",
    "linestretch: 1.5\n",
    "---"
   ]
  },
  {
   "cell_type": "markdown",
   "metadata": {},
   "source": [
    "\\newpage"
   ]
  },
  {
   "cell_type": "markdown",
   "metadata": {},
   "source": [
    "## Question 1\n",
    "\n",
    "We consider the open the surface weather dataset at https://www.kaggle.com/datasets/noaa/gsod\n",
    "\n",
    "(a) The `gust` variable is Maximum wind gust reported for the day in knots to tenths. Missing = 999.9 The `visib` variable is Mean visibility for the day in miles to tenths. Missing = 999.9"
   ]
  },
  {
   "cell_type": "code",
   "execution_count": 1,
   "metadata": {},
   "outputs": [
    {
     "data": {
      "image/png": "[encoded data removed]",
      "text/plain": [
       "<Figure size 640x480 with 1 Axes>"
      ]
     },
     "metadata": {},
     "output_type": "display_data"
    }
   ],
   "source": [
    "\n",
    "\n",
    "import pandas as pd\n",
    "import matplotlib.pyplot as plt\n",
    "import numpy as np\n",
    "import seaborn as sns\n",
    "\n",
    "df= pd.read_csv('https://gist.githubusercontent.com/krisrs1128/3845514e2d5eef57ec3271ea20fdcdb1/raw/44f9860df64b280e6b4c155f144c67bea1825edd/noaa-gosd.csv')\n",
    "\n",
    "selected_columns = df[['gust','visib']]\n",
    "sns.histplot(\n",
    "    data=selected_columns,\n",
    "    x='gust',\n",
    "    binwidth=10,\n",
    "    stat='density',\n",
    "    common_norm=True,\n",
    "    element='step',\n",
    "    color='blue'\n",
    "    )\n",
    "sns.histplot(\n",
    "    data=selected_columns,\n",
    "    x='visib',\n",
    "    binwidth=10,\n",
    "    stat='density',\n",
    "    common_norm=True,\n",
    "    element='step',\n",
    "    color='yellow'\n",
    "    )\n",
    "plt.xlabel(\"gust and visib\")\n",
    "plt.show()"
   ]
  },
  {
   "cell_type": "markdown",
   "metadata": {},
   "source": [
    "The histrogrom shows there has two extremes, and I think it contains tainted data."
   ]
  },
  {
   "cell_type": "markdown",
   "metadata": {},
   "source": [
    "(b) Next, we identify missing values in the the `gust` and `visib` variables using the observation from the website. We know that 999.9 is the missing value therefor we will replace 999.9 to NaN"
   ]
  },
  {
   "cell_type": "code",
   "execution_count": 2,
   "metadata": {},
   "outputs": [
    {
     "data": {
      "text/html": [
       "<div>\n",
       "<style scoped>\n",
       "    .dataframe tbody tr th:only-of-type {\n",
       "        vertical-align: middle;\n",
       "    }\n",
       "\n",
       "    .dataframe tbody tr th {\n",
       "        vertical-align: top;\n",
       "    }\n",
       "\n",
       "    .dataframe thead th {\n",
       "        text-align: right;\n",
       "    }\n",
       "</style>\n",
       "<table border=\"1\" class=\"dataframe\">\n",
       "  <thead>\n",
       "    <tr style=\"text-align: right;\">\n",
       "      <th></th>\n",
       "      <th>gust</th>\n",
       "      <th>visib</th>\n",
       "    </tr>\n",
       "  </thead>\n",
       "  <tbody>\n",
       "    <tr>\n",
       "      <th>0</th>\n",
       "      <td>17.1</td>\n",
       "      <td>3.0</td>\n",
       "    </tr>\n",
       "    <tr>\n",
       "      <th>1</th>\n",
       "      <td>NaN</td>\n",
       "      <td>NaN</td>\n",
       "    </tr>\n",
       "    <tr>\n",
       "      <th>2</th>\n",
       "      <td>NaN</td>\n",
       "      <td>NaN</td>\n",
       "    </tr>\n",
       "    <tr>\n",
       "      <th>3</th>\n",
       "      <td>18.1</td>\n",
       "      <td>NaN</td>\n",
       "    </tr>\n",
       "    <tr>\n",
       "      <th>4</th>\n",
       "      <td>19.6</td>\n",
       "      <td>NaN</td>\n",
       "    </tr>\n",
       "    <tr>\n",
       "      <th>...</th>\n",
       "      <td>...</td>\n",
       "      <td>...</td>\n",
       "    </tr>\n",
       "    <tr>\n",
       "      <th>9995</th>\n",
       "      <td>17.1</td>\n",
       "      <td>10.0</td>\n",
       "    </tr>\n",
       "    <tr>\n",
       "      <th>9996</th>\n",
       "      <td>NaN</td>\n",
       "      <td>12.4</td>\n",
       "    </tr>\n",
       "    <tr>\n",
       "      <th>9997</th>\n",
       "      <td>9.7</td>\n",
       "      <td>3.2</td>\n",
       "    </tr>\n",
       "    <tr>\n",
       "      <th>9998</th>\n",
       "      <td>24.1</td>\n",
       "      <td>5.8</td>\n",
       "    </tr>\n",
       "    <tr>\n",
       "      <th>9999</th>\n",
       "      <td>18.1</td>\n",
       "      <td>NaN</td>\n",
       "    </tr>\n",
       "  </tbody>\n",
       "</table>\n",
       "<p>10000 rows × 2 columns</p>\n",
       "</div>"
      ],
      "text/plain": [
       "      gust  visib\n",
       "0     17.1    3.0\n",
       "1      NaN    NaN\n",
       "2      NaN    NaN\n",
       "3     18.1    NaN\n",
       "4     19.6    NaN\n",
       "...    ...    ...\n",
       "9995  17.1   10.0\n",
       "9996   NaN   12.4\n",
       "9997   9.7    3.2\n",
       "9998  24.1    5.8\n",
       "9999  18.1    NaN\n",
       "\n",
       "[10000 rows x 2 columns]"
      ]
     },
     "execution_count": 2,
     "metadata": {},
     "output_type": "execute_result"
    }
   ],
   "source": [
    "clean_selected_columns=selected_columns.replace(999.9,np.nan)\n",
    "clean_selected_columns"
   ]
  },
  {
   "cell_type": "markdown",
   "metadata": {},
   "source": [
    "(c) The histograms of the `gust` and `visib` variables again, ignoring any missing values."
   ]
  },
  {
   "cell_type": "code",
   "execution_count": 3,
   "metadata": {
    "collapsed": false
   },
   "outputs": [
    {
     "data": {
      "text/html": [
       "<div>\n",
       "<style scoped>\n",
       "    .dataframe tbody tr th:only-of-type {\n",
       "        vertical-align: middle;\n",
       "    }\n",
       "\n",
       "    .dataframe tbody tr th {\n",
       "        vertical-align: top;\n",
       "    }\n",
       "\n",
       "    .dataframe thead th {\n",
       "        text-align: right;\n",
       "    }\n",
       "</style>\n",
       "<table border=\"1\" class=\"dataframe\">\n",
       "  <thead>\n",
       "    <tr style=\"text-align: right;\">\n",
       "      <th></th>\n",
       "      <th>gust</th>\n",
       "      <th>visib</th>\n",
       "    </tr>\n",
       "  </thead>\n",
       "  <tbody>\n",
       "    <tr>\n",
       "      <th>count</th>\n",
       "      <td>3591.000000</td>\n",
       "      <td>7114.000000</td>\n",
       "    </tr>\n",
       "    <tr>\n",
       "      <th>mean</th>\n",
       "      <td>20.990058</td>\n",
       "      <td>12.871535</td>\n",
       "    </tr>\n",
       "    <tr>\n",
       "      <th>std</th>\n",
       "      <td>8.072542</td>\n",
       "      <td>7.105767</td>\n",
       "    </tr>\n",
       "    <tr>\n",
       "      <th>min</th>\n",
       "      <td>9.700000</td>\n",
       "      <td>0.200000</td>\n",
       "    </tr>\n",
       "    <tr>\n",
       "      <th>25%</th>\n",
       "      <td>15.700000</td>\n",
       "      <td>8.600000</td>\n",
       "    </tr>\n",
       "    <tr>\n",
       "      <th>50%</th>\n",
       "      <td>19.000000</td>\n",
       "      <td>12.400000</td>\n",
       "    </tr>\n",
       "    <tr>\n",
       "      <th>75%</th>\n",
       "      <td>25.100000</td>\n",
       "      <td>15.000000</td>\n",
       "    </tr>\n",
       "    <tr>\n",
       "      <th>max</th>\n",
       "      <td>80.600000</td>\n",
       "      <td>60.000000</td>\n",
       "    </tr>\n",
       "  </tbody>\n",
       "</table>\n",
       "</div>"
      ],
      "text/plain": [
       "              gust        visib\n",
       "count  3591.000000  7114.000000\n",
       "mean     20.990058    12.871535\n",
       "std       8.072542     7.105767\n",
       "min       9.700000     0.200000\n",
       "25%      15.700000     8.600000\n",
       "50%      19.000000    12.400000\n",
       "75%      25.100000    15.000000\n",
       "max      80.600000    60.000000"
      ]
     },
     "execution_count": 3,
     "metadata": {},
     "output_type": "execute_result"
    }
   ],
   "source": [
    "clean_selected_columns.describe()"
   ]
  },
  {
   "cell_type": "code",
   "execution_count": 4,
   "metadata": {},
   "outputs": [
    {
     "data": {
      "image/png": "[encoded data removed]",
      "text/plain": [
       "<Figure size 640x480 with 1 Axes>"
      ]
     },
     "metadata": {},
     "output_type": "display_data"
    }
   ],
   "source": [
    "sns.histplot(\n",
    "    data=clean_selected_columns,\n",
    "    x='gust',\n",
    "    binwidth=1,\n",
    "    stat='density',\n",
    "    common_norm=True,\n",
    "    element='step',\n",
    "    color='blue'\n",
    "    )\n",
    "sns.histplot(\n",
    "    data=clean_selected_columns,\n",
    "    x='visib',\n",
    "    binwidth=1,\n",
    "    stat='density',\n",
    "    common_norm=True,\n",
    "    element='step',\n",
    "    color='red'\n",
    "    )\n",
    "plt.xlabel(\"gust and visib\")\n",
    "plt.show()"
   ]
  },
  {
   "cell_type": "markdown",
   "metadata": {},
   "source": [
    "\n",
    "\n",
    "The range of gust is 80.6 - 0 = 80.6 and range of visib is 60 - 0 = 60\n",
    "For the both graph of gust and visib, they are right skewed. We have shown the visibility that has the highest frequency are approximately between 15 and 20 miles. The frequceny of visibility are steady decline when it exceed 20 miles.\n",
    "The maximum frequecny of gust are reported approxiamtely at 15 knots. The frequency of gust dramasticly decrease once the value is greater than 15 knots."
   ]
  },
  {
   "cell_type": "markdown",
   "metadata": {},
   "source": [
    "\\newpage"
   ]
  },
  {
   "cell_type": "markdown",
   "metadata": {},
   "source": [
    "## Question 2\n",
    "\n",
    "We consider [Spotify Tracks DB dataset from Kaggle](https://www.kaggle.com/zaheenhamidani/ultimate-spotify-tracks-db) for the following analysis. "
   ]
  },
  {
   "cell_type": "markdown",
   "metadata": {},
   "source": [
    "(a) We find the dimension of the Spotify dataset."
   ]
  },
  {
   "cell_type": "code",
   "execution_count": 5,
   "metadata": {},
   "outputs": [
    {
     "name": "stdout",
     "output_type": "stream",
     "text": [
      "observations: 232725\n",
      "variables: 18\n"
     ]
    }
   ],
   "source": [
    "import pandas as pd\n",
    "\n",
    "df_spo = pd.read_csv(\"SpotifyFeatures.csv\")\n",
    "print(\"observations: \"+ str(len(df_spo)))\n",
    "print(\"variables: \"+ str(len(df_spo.columns)))"
   ]
  },
  {
   "cell_type": "markdown",
   "metadata": {},
   "source": [
    "There are 232725 observations and 18 variables."
   ]
  },
  {
   "cell_type": "markdown",
   "metadata": {
    "collapsed": false
   },
   "source": [
    "(b) we find the duplicated track_id"
   ]
  },
  {
   "cell_type": "code",
   "execution_count": 6,
   "metadata": {
    "collapsed": false
   },
   "outputs": [
    {
     "data": {
      "text/plain": [
       "False"
      ]
     },
     "execution_count": 6,
     "metadata": {},
     "output_type": "execute_result"
    }
   ],
   "source": [
    "df_spo['track_id'].is_unique"
   ]
  },
  {
   "cell_type": "markdown",
   "metadata": {
    "collapsed": false
   },
   "source": [
    "it mean there are duplicated track_id in this dataset"
   ]
  },
  {
   "cell_type": "code",
   "execution_count": 7,
   "metadata": {
    "collapsed": false
   },
   "outputs": [
    {
     "data": {
      "text/plain": [
       "55951"
      ]
     },
     "execution_count": 7,
     "metadata": {},
     "output_type": "execute_result"
    }
   ],
   "source": [
    "df_spo['track_id'].duplicated().sum()"
   ]
  },
  {
   "cell_type": "markdown",
   "metadata": {
    "collapsed": false
   },
   "source": [
    "The total duplicated track_id are 55951 observations"
   ]
  },
  {
   "cell_type": "code",
   "execution_count": 8,
   "metadata": {
    "collapsed": false
   },
   "outputs": [
    {
     "data": {
      "text/plain": [
       "176774"
      ]
     },
     "execution_count": 8,
     "metadata": {},
     "output_type": "execute_result"
    }
   ],
   "source": [
    "unique_df_spo = df_spo.drop_duplicates(subset=['track_id'])\n",
    "len(unique_df_spo)"
   ]
  },
  {
   "cell_type": "markdown",
   "metadata": {
    "collapsed": false
   },
   "source": [
    "unique dataset contain total 176774 observations"
   ]
  },
  {
   "cell_type": "markdown",
   "metadata": {
    "collapsed": false
   },
   "source": [
    "(c) find type of the above variables"
   ]
  },
  {
   "cell_type": "code",
   "execution_count": 9,
   "metadata": {
    "collapsed": false
   },
   "outputs": [
    {
     "data": {
      "text/plain": [
       "genre                object\n",
       "artist_name          object\n",
       "track_name           object\n",
       "track_id             object\n",
       "popularity            int64\n",
       "acousticness        float64\n",
       "danceability        float64\n",
       "duration_ms           int64\n",
       "energy              float64\n",
       "instrumentalness    float64\n",
       "key                  object\n",
       "liveness            float64\n",
       "loudness            float64\n",
       "mode                 object\n",
       "speechiness         float64\n",
       "tempo               float64\n",
       "time_signature       object\n",
       "valence             float64\n",
       "dtype: object"
      ]
     },
     "execution_count": 9,
     "metadata": {},
     "output_type": "execute_result"
    }
   ],
   "source": [
    "unique_df_spo.dtypes"
   ]
  },
  {
   "cell_type": "markdown",
   "metadata": {
    "collapsed": false
   },
   "source": [
    "(d) find different `genres` are in the data"
   ]
  },
  {
   "cell_type": "code",
   "execution_count": 10,
   "metadata": {
    "collapsed": false
   },
   "outputs": [
    {
     "name": "stdout",
     "output_type": "stream",
     "text": [
      "there are total 27 unique type of genres\n"
     ]
    }
   ],
   "source": [
    "print(f\"there are total {unique_df_spo['genre'].nunique()} unique type of genres\")"
   ]
  },
  {
   "cell_type": "markdown",
   "metadata": {
    "collapsed": false
   },
   "source": []
  },
  {
   "cell_type": "markdown",
   "metadata": {
    "collapsed": false
   },
   "source": [
    "(e) Compute the average popularity of each genre and report the five most popular genres."
   ]
  },
  {
   "cell_type": "code",
   "execution_count": 11,
   "metadata": {
    "collapsed": false
   },
   "outputs": [
    {
     "data": {
      "text/plain": [
       "genre\n",
       "Pop                 67.064957\n",
       "Rap                 59.515797\n",
       "Rock                58.767849\n",
       "Hip-Hop             58.516660\n",
       "Dance               57.351541\n",
       "Indie               53.528933\n",
       "Children’s Music    52.302465\n",
       "Alternative         50.257944\n",
       "Folk                49.671347\n",
       "R&B                 48.463665\n",
       "Country             44.248679\n",
       "Soul                43.491874\n",
       "Jazz                39.885060\n",
       "Electronic          37.592305\n",
       "Reggaeton           36.480290\n",
       "Reggae              35.390123\n",
       "World               34.416029\n",
       "Blues               33.683851\n",
       "Soundtrack          33.681958\n",
       "Classical           29.320170\n",
       "Ska                 27.441063\n",
       "Anime               24.256184\n",
       "Comedy              21.320240\n",
       "Opera               13.335628\n",
       "Movie               12.146629\n",
       "A Capella            9.302521\n",
       "Children's Music     4.245650\n",
       "dtype: float64"
      ]
     },
     "execution_count": 11,
     "metadata": {},
     "output_type": "execute_result"
    }
   ],
   "source": [
    "average = unique_df_spo['genre'].value_counts()\n",
    "\n",
    "select2 = unique_df_spo.groupby(['genre']).agg({'popularity':'sum'})\n",
    "select2.squeeze()\n",
    "\n",
    "average_genre = select2.squeeze().div(average)\n",
    "average_genre.sort_values(ascending=False)"
   ]
  },
  {
   "cell_type": "code",
   "execution_count": null,
   "metadata": {
    "collapsed": false
   },
   "outputs": [],
   "source": []
  },
  {
   "cell_type": "markdown",
   "metadata": {
    "collapsed": false
   },
   "source": [
    "average genre Show above"
   ]
  },
  {
   "cell_type": "code",
   "execution_count": 12,
   "metadata": {
    "collapsed": false
   },
   "outputs": [
    {
     "data": {
      "text/plain": [
       "Index(['Dance', 'Hip-Hop', 'Pop', 'Rock', 'Rap'], dtype='object', name='genre')"
      ]
     },
     "execution_count": 12,
     "metadata": {},
     "output_type": "execute_result"
    }
   ],
   "source": [
    "value = average_genre.sort_values(ascending=False).head().index.tolist()\n",
    "popular_df_spo = unique_df_spo.loc[df_spo['genre'].isin(value)]\n",
    "popular_df_spo['genre'].value_counts().index"
   ]
  },
  {
   "cell_type": "markdown",
   "metadata": {
    "collapsed": false
   },
   "source": [
    " Here is the top five popular genres 'Dance', 'Hip-Hop', 'Pop', 'Rock', 'Rap'"
   ]
  },
  {
   "cell_type": "markdown",
   "metadata": {
    "collapsed": false
   },
   "source": [
    "(f) Explore the distribution of `genre` using the appropriate visualization method and interpret the plot."
   ]
  },
  {
   "cell_type": "code",
   "execution_count": 13,
   "metadata": {
    "collapsed": false
   },
   "outputs": [
    {
     "data": {
      "text/plain": [
       "<Axes: xlabel='genre', ylabel='count'>"
      ]
     },
     "execution_count": 13,
     "metadata": {},
     "output_type": "execute_result"
    },
    {
     "data": {
      "image/png": "[encoded data removed]",
      "text/plain": [
       "<Figure size 640x480 with 1 Axes>"
      ]
     },
     "metadata": {},
     "output_type": "display_data"
    }
   ],
   "source": [
    "popular_df_spo.dtypes\n",
    "\n",
    "sns.countplot(\n",
    "    data=popular_df_spo,\n",
    "    x='genre',\n",
    "    order= popular_df_spo['genre'].value_counts().index\n",
    ")\n"
   ]
  },
  {
   "cell_type": "markdown",
   "metadata": {
    "collapsed": false
   },
   "source": [
    "(g) Explore the association between `genre` and `popularity`"
   ]
  },
  {
   "cell_type": "code",
   "execution_count": 14,
   "metadata": {
    "collapsed": false
   },
   "outputs": [
    {
     "name": "stderr",
     "output_type": "stream",
     "text": [
      "C:\\Users\\SuperChris\\AppData\\Local\\Temp\\ipykernel_21400\\2034504652.py:12: UserWarning: FixedFormatter should only be used together with FixedLocator\n",
      "  popu_genre.set_xticklabels(\n"
     ]
    },
    {
     "data": {
      "text/plain": [
       "Text(0.5, 1.0, 'Association between popularity and genre')"
      ]
     },
     "execution_count": 14,
     "metadata": {},
     "output_type": "execute_result"
    },
    {
     "data": {
      "image/png": "[encoded data removed]",
      "text/plain": [
       "<Figure size 640x480 with 1 Axes>"
      ]
     },
     "metadata": {},
     "output_type": "display_data"
    }
   ],
   "source": [
    "# popular_df_spo.info\n",
    "genre_count = popular_df_spo['genre'].value_counts()\n",
    "relative_frequency = genre_count / len(popular_df_spo)\n",
    "\n",
    "popu_genre = sns.boxplot(\n",
    "    data=popular_df_spo,\n",
    "    x='genre',\n",
    "    y='popularity',\n",
    "    width=relative_frequency\n",
    ")\n",
    "\n",
    "popu_genre.set_xticklabels(\n",
    "    popu_genre.get_xticklabels(),\n",
    "    rotation=45,\n",
    "    horizontalalignment='right'\n",
    ")\n",
    "\n",
    "plt.xlabel('genre type')\n",
    "plt.ylabel('popularity')\n",
    "plt.title('Association between popularity and genre')\n"
   ]
  },
  {
   "cell_type": "markdown",
   "metadata": {
    "collapsed": false
   },
   "source": [
    "(h) Explore the relationship between `acousticness` and `popularity.`"
   ]
  },
  {
   "cell_type": "code",
   "execution_count": 15,
   "metadata": {
    "collapsed": false
   },
   "outputs": [
    {
     "data": {
      "image/png": "[encoded data removed]",
      "text/plain": [
       "<Figure size 640x480 with 2 Axes>"
      ]
     },
     "metadata": {},
     "output_type": "display_data"
    }
   ],
   "source": [
    "plt.hexbin(\n",
    "    popular_df_spo['acousticness'],\n",
    "    popular_df_spo['popularity'],\n",
    "    gridsize=10,\n",
    "    cmap='Blues'\n",
    "    )\n",
    "plt.colorbar(label='Count in bin')\n",
    "plt.xlabel('acousticness')\n",
    "plt.ylabel('popularity')\n",
    "plt.show()"
   ]
  }
 ],
 "metadata": {
  "kernelspec": {
   "display_name": ".venv",
   "language": "python",
   "name": "python3"
  },
  "language_info": {
   "codemirror_mode": {
    "name": "ipython",
    "version": 3
   },
   "file_extension": ".py",
   "mimetype": "text/x-python",
   "name": "python",
   "nbconvert_exporter": "python",
   "pygments_lexer": "ipython3",
   "version": "3.12.1"
  }
 },
 "nbformat": 4,
 "nbformat_minor": 2
}
