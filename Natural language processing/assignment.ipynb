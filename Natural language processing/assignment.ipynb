{
 "cells": [
  {
   "cell_type": "raw",
   "metadata": {},
   "source": [
    "---\n",
    "title: STATS\n",
    "subtitle: Homework Assignment 2\n",
    "author: \"Haoyuan Chen\"\n",
    "date: 02/13/2024\n",
    "format: pdf\n",
    "header-includes:\n",
    "   - \\usepackage{amsmath}\n",
    "   - \\usepackage{bbm}\n",
    "   - \\usepackage{array}\n",
    "   - \\usepackage{multirow}\n",
    "   - \\usepackage{graphicx}\n",
    "   - \\usepackage{float}\n",
    "   - \\usepackage{apacite}\n",
    "   - \\usepackage{natbib}\n",
    "execute: \n",
    "  echo: true\n",
    "fontsize: 11pt\n",
    "geometry: margin = 1in\n",
    "linestretch: 1.5\n",
    "---"
   ]
  },
  {
   "cell_type": "markdown",
   "metadata": {},
   "source": [
    "\\newpage"
   ]
  },
  {
   "cell_type": "markdown",
   "metadata": {},
   "source": [
    "## Question 1\n",
    "\n",
    "- (1) Reference where you obtained the original PDF document."
   ]
  },
  {
   "cell_type": "markdown",
   "metadata": {
    "collapsed": false
   },
   "source": [
    "Donoho, D. (n.d.). Data Science at the Singularity. Donoho (2024)_Just Accepted-11706563057147.pdf. https://assets.pubpub.org/9bk0194n/Donoho%20(2024)_Just%20Accepted-11706563057147.pdf"
   ]
  },
  {
   "cell_type": "markdown",
   "metadata": {},
   "source": [
    "- (2) Read all PDF document pages and separate each line by `\\n`."
   ]
  },
  {
   "cell_type": "code",
   "execution_count": 1,
   "metadata": {},
   "outputs": [
    {
     "name": "stdout",
     "output_type": "stream",
     "text": [
      "Just Accepted\n",
      "DOI: ./f.bef\n",
      "ISSN: -\n",
      "Data Science at the Singularity\n",
      "d\n",
      "David Donoho†,*\n",
      "† Stanford Univ\n"
     ]
    }
   ],
   "source": [
    "import pdfplumber\n",
    "import re\n",
    "\n",
    "text = ''\n",
    "with pdfplumber.open('Donoho (2024)_Just Accepted-11706563057147.pdf') as pdf:\n",
    "    for page in pdf.pages:\n",
    "        text += page.extract_text() + '\\n'\n",
    "\n",
    "\n",
    "text = re.sub(r'[0-9]', '', text)\n",
    "\n",
    "print(text[:100])\n"
   ]
  },
  {
   "cell_type": "markdown",
   "metadata": {},
   "source": [
    "- (3) Split the lines by `\\n`."
   ]
  },
  {
   "cell_type": "code",
   "execution_count": 2,
   "metadata": {},
   "outputs": [
    {
     "name": "stdout",
     "output_type": "stream",
     "text": [
      "['Just Accepted', 'DOI: ./f.bef', 'ISSN: -', 'Data Science at the Singularity', 'd', 'David Donoho†,*', '† Stanford University', 'e', 't', 'Abstract. Something fundamental to computation-based repsearch has really changed']\n"
     ]
    }
   ],
   "source": [
    "split_text = text.split('\\n')\n",
    "print(split_text[:10])"
   ]
  },
  {
   "cell_type": "markdown",
   "metadata": {},
   "source": [
    "- (4) Remove the lines before `Abstract. .....`. You can print the first few lines and find the number of lines to remove."
   ]
  },
  {
   "cell_type": "code",
   "execution_count": 3,
   "metadata": {
    "collapsed": false
   },
   "outputs": [
    {
     "name": "stdout",
     "output_type": "stream",
     "text": [
      "['Abstract. Something fundamental to computation-based repsearch has really changed', 'in the last ten years. In certain fields, progress is simply dramatically more rapid than', 'previously. Researchers in affected fields are living through a period of profound trans-', 'formation, as the fields undergo a transition to fricetionless reproducibility (FR). This', 'transition markedly changes the rate of spread of ideas and practices, affects scientific', 'mindsets and the goals of science, and erases memories of much that came before.', 'TheemergenceofFRflowsfromdatasccienceprinciplesthatmaturedtogetherafter', 'decadesofworkbymanytechnologistsandnumerousresearchcommunities. Themature', 'principlesinvolvedatasharing,codesharing,andcompetitivechallenges,howeverimple-', 'c']\n"
     ]
    }
   ],
   "source": [
    "remove_Abs_split_text = list(split_text[9:])\n",
    "print(remove_Abs_split_text[:10])"
   ]
  },
  {
   "cell_type": "markdown",
   "metadata": {
    "collapsed": false
   },
   "source": [
    "- (5) Create a data frame with lines."
   ]
  },
  {
   "cell_type": "code",
   "execution_count": 4,
   "metadata": {
    "collapsed": false
   },
   "outputs": [
    {
     "name": "stderr",
     "output_type": "stream",
     "text": [
      "E:\\conda\\Lib\\site-packages\\pandas\\core\\arrays\\masked.py:60: UserWarning: Pandas requires version '1.3.6' or newer of 'bottleneck' (version '1.3.5' currently installed).\n",
      "  from pandas.core import (\n"
     ]
    },
    {
     "data": {
      "text/html": [
       "<div>\n",
       "<style scoped>\n",
       "    .dataframe tbody tr th:only-of-type {\n",
       "        vertical-align: middle;\n",
       "    }\n",
       "\n",
       "    .dataframe tbody tr th {\n",
       "        vertical-align: top;\n",
       "    }\n",
       "\n",
       "    .dataframe thead th {\n",
       "        text-align: right;\n",
       "    }\n",
       "</style>\n",
       "<table border=\"1\" class=\"dataframe\">\n",
       "  <thead>\n",
       "    <tr style=\"text-align: right;\">\n",
       "      <th></th>\n",
       "      <th>line</th>\n",
       "    </tr>\n",
       "  </thead>\n",
       "  <tbody>\n",
       "    <tr>\n",
       "      <th>0</th>\n",
       "      <td>Abstract. Something fundamental to computation...</td>\n",
       "    </tr>\n",
       "    <tr>\n",
       "      <th>1</th>\n",
       "      <td>in the last ten years. In certain fields, prog...</td>\n",
       "    </tr>\n",
       "    <tr>\n",
       "      <th>2</th>\n",
       "      <td>previously. Researchers in affected fields are...</td>\n",
       "    </tr>\n",
       "    <tr>\n",
       "      <th>3</th>\n",
       "      <td>formation, as the fields undergo a transition ...</td>\n",
       "    </tr>\n",
       "    <tr>\n",
       "      <th>4</th>\n",
       "      <td>transition markedly changes the rate of spread...</td>\n",
       "    </tr>\n",
       "    <tr>\n",
       "      <th>...</th>\n",
       "      <td>...</td>\n",
       "    </tr>\n",
       "    <tr>\n",
       "      <th>1667</th>\n",
       "      <td>t</td>\n",
       "    </tr>\n",
       "    <tr>\n",
       "      <th>1668</th>\n",
       "      <td>s</td>\n",
       "    </tr>\n",
       "    <tr>\n",
       "      <th>1669</th>\n",
       "      <td>u</td>\n",
       "    </tr>\n",
       "    <tr>\n",
       "      <th>1670</th>\n",
       "      <td>J</td>\n",
       "    </tr>\n",
       "    <tr>\n",
       "      <th>1671</th>\n",
       "      <td></td>\n",
       "    </tr>\n",
       "  </tbody>\n",
       "</table>\n",
       "<p>1672 rows × 1 columns</p>\n",
       "</div>"
      ],
      "text/plain": [
       "                                                   line\n",
       "0     Abstract. Something fundamental to computation...\n",
       "1     in the last ten years. In certain fields, prog...\n",
       "2     previously. Researchers in affected fields are...\n",
       "3     formation, as the fields undergo a transition ...\n",
       "4     transition markedly changes the rate of spread...\n",
       "...                                                 ...\n",
       "1667                                                  t\n",
       "1668                                                  s\n",
       "1669                                                  u\n",
       "1670                                                  J\n",
       "1671                                                   \n",
       "\n",
       "[1672 rows x 1 columns]"
      ]
     },
     "execution_count": 4,
     "metadata": {},
     "output_type": "execute_result"
    }
   ],
   "source": [
    "import pandas as pd\n",
    "from nltk.tokenize import word_tokenize\n",
    "import nltk\n",
    "\n",
    "donoho_paper = pd.DataFrame({'line': remove_Abs_split_text})\n",
    "donoho_paper"
   ]
  },
  {
   "cell_type": "markdown",
   "metadata": {
    "collapsed": false
   },
   "source": [
    "- (6) Tokenize each line and convert each word to a row."
   ]
  },
  {
   "cell_type": "code",
   "execution_count": 5,
   "metadata": {
    "collapsed": false
   },
   "outputs": [
    {
     "data": {
      "text/plain": [
       "(18754, 2)"
      ]
     },
     "execution_count": 5,
     "metadata": {},
     "output_type": "execute_result"
    }
   ],
   "source": [
    "donoho_paper['word'] = donoho_paper['line'].apply(word_tokenize)\n",
    "donoho_paper = donoho_paper.explode('word')\n",
    "donoho_paper.shape"
   ]
  },
  {
   "cell_type": "markdown",
   "metadata": {
    "collapsed": false
   },
   "source": [
    "- (7) Convert each word to lowercase."
   ]
  },
  {
   "cell_type": "code",
   "execution_count": 6,
   "metadata": {
    "collapsed": false
   },
   "outputs": [
    {
     "data": {
      "text/html": [
       "<div>\n",
       "<style scoped>\n",
       "    .dataframe tbody tr th:only-of-type {\n",
       "        vertical-align: middle;\n",
       "    }\n",
       "\n",
       "    .dataframe tbody tr th {\n",
       "        vertical-align: top;\n",
       "    }\n",
       "\n",
       "    .dataframe thead th {\n",
       "        text-align: right;\n",
       "    }\n",
       "</style>\n",
       "<table border=\"1\" class=\"dataframe\">\n",
       "  <thead>\n",
       "    <tr style=\"text-align: right;\">\n",
       "      <th></th>\n",
       "      <th>line</th>\n",
       "      <th>word</th>\n",
       "    </tr>\n",
       "  </thead>\n",
       "  <tbody>\n",
       "    <tr>\n",
       "      <th>0</th>\n",
       "      <td>Abstract. Something fundamental to computation...</td>\n",
       "      <td>abstract</td>\n",
       "    </tr>\n",
       "    <tr>\n",
       "      <th>0</th>\n",
       "      <td>Abstract. Something fundamental to computation...</td>\n",
       "      <td>.</td>\n",
       "    </tr>\n",
       "    <tr>\n",
       "      <th>0</th>\n",
       "      <td>Abstract. Something fundamental to computation...</td>\n",
       "      <td>something</td>\n",
       "    </tr>\n",
       "    <tr>\n",
       "      <th>0</th>\n",
       "      <td>Abstract. Something fundamental to computation...</td>\n",
       "      <td>fundamental</td>\n",
       "    </tr>\n",
       "    <tr>\n",
       "      <th>0</th>\n",
       "      <td>Abstract. Something fundamental to computation...</td>\n",
       "      <td>to</td>\n",
       "    </tr>\n",
       "    <tr>\n",
       "      <th>...</th>\n",
       "      <td>...</td>\n",
       "      <td>...</td>\n",
       "    </tr>\n",
       "    <tr>\n",
       "      <th>1667</th>\n",
       "      <td>t</td>\n",
       "      <td>t</td>\n",
       "    </tr>\n",
       "    <tr>\n",
       "      <th>1668</th>\n",
       "      <td>s</td>\n",
       "      <td>s</td>\n",
       "    </tr>\n",
       "    <tr>\n",
       "      <th>1669</th>\n",
       "      <td>u</td>\n",
       "      <td>u</td>\n",
       "    </tr>\n",
       "    <tr>\n",
       "      <th>1670</th>\n",
       "      <td>J</td>\n",
       "      <td>j</td>\n",
       "    </tr>\n",
       "    <tr>\n",
       "      <th>1671</th>\n",
       "      <td></td>\n",
       "      <td>NaN</td>\n",
       "    </tr>\n",
       "  </tbody>\n",
       "</table>\n",
       "<p>18754 rows × 2 columns</p>\n",
       "</div>"
      ],
      "text/plain": [
       "                                                   line         word\n",
       "0     Abstract. Something fundamental to computation...     abstract\n",
       "0     Abstract. Something fundamental to computation...            .\n",
       "0     Abstract. Something fundamental to computation...    something\n",
       "0     Abstract. Something fundamental to computation...  fundamental\n",
       "0     Abstract. Something fundamental to computation...           to\n",
       "...                                                 ...          ...\n",
       "1667                                                  t            t\n",
       "1668                                                  s            s\n",
       "1669                                                  u            u\n",
       "1670                                                  J            j\n",
       "1671                                                             NaN\n",
       "\n",
       "[18754 rows x 2 columns]"
      ]
     },
     "execution_count": 6,
     "metadata": {},
     "output_type": "execute_result"
    }
   ],
   "source": [
    "donoho_paper['word'] = donoho_paper['word'].str.lower()\n",
    "donoho_paper"
   ]
  },
  {
   "cell_type": "markdown",
   "metadata": {
    "collapsed": false
   },
   "source": [
    "- (8) Remove stopwords."
   ]
  },
  {
   "cell_type": "code",
   "execution_count": 7,
   "metadata": {
    "collapsed": false
   },
   "outputs": [
    {
     "data": {
      "text/plain": [
       "(13731, 2)"
      ]
     },
     "execution_count": 7,
     "metadata": {},
     "output_type": "execute_result"
    }
   ],
   "source": [
    "from nltk.corpus import stopwords\n",
    "\n",
    "english_stopwords = set(stopwords.words('english'))\n",
    "donoho_paper = donoho_paper[~donoho_paper['word'].isin(english_stopwords)]\n",
    "\n",
    "donoho_paper = donoho_paper[~donoho_paper['word'].str.replace(\"'\", \"\").isin(english_stopwords)]\n",
    "\n",
    "\n",
    "donoho_paper.shape\n"
   ]
  },
  {
   "cell_type": "markdown",
   "metadata": {
    "collapsed": false
   },
   "source": [
    "- (9) Remove any other words that are not suitable for the word cloud. For example, a single letter word, symbols [ . , ) , abbreviation, etc."
   ]
  },
  {
   "cell_type": "code",
   "execution_count": 8,
   "metadata": {
    "collapsed": false
   },
   "outputs": [
    {
     "data": {
      "text/plain": [
       "(8823, 2)"
      ]
     },
     "execution_count": 8,
     "metadata": {},
     "output_type": "execute_result"
    }
   ],
   "source": [
    "donoho_paper['word'] = donoho_paper['word'].str.replace(r'[.,):(•-]', '', regex=True)\n",
    "donoho_paper['word'] = donoho_paper['word'].str.replace(r'^.$', '', regex=True)\n",
    "donoho_paper['word'] = donoho_paper['word'].str.replace(r'^fr$', '', regex=True)\n",
    "donoho_paper['word'] = donoho_paper['word'].str.replace(r'^https$', '', regex=True)\n",
    "donoho_paper = donoho_paper[donoho_paper['word'] != '']\n",
    "\n",
    "donoho_paper.shape\n"
   ]
  },
  {
   "cell_type": "markdown",
   "metadata": {
    "collapsed": false
   },
   "source": [
    "- (10) Create a term-frequency data frame."
   ]
  },
  {
   "cell_type": "code",
   "execution_count": 9,
   "metadata": {
    "collapsed": false
   },
   "outputs": [
    {
     "name": "stdout",
     "output_type": "stream",
     "text": [
      "              word    n\n",
      "0             data  120\n",
      "1         research  110\n",
      "2          science   70\n",
      "3              new   63\n",
      "4       challenges   52\n",
      "5             many   50\n",
      "6             code   48\n",
      "7     frictionless   46\n",
      "8          sharing   36\n",
      "9  reproducibility   36\n",
      "(3861, 2)\n"
     ]
    }
   ],
   "source": [
    "freq = donoho_paper['word'].value_counts().reset_index()\n",
    "freq.columns = ['word', 'n']\n",
    "print(freq.head(10))\n",
    "print(freq.shape)"
   ]
  },
  {
   "cell_type": "markdown",
   "metadata": {
    "collapsed": false
   },
   "source": [
    "- (11) Produce a word cloud. You can decide on the most frequently used words in the world cloud—for example, word cloud for the ten most frequently used words."
   ]
  },
  {
   "cell_type": "code",
   "execution_count": 10,
   "metadata": {
    "collapsed": false
   },
   "outputs": [
    {
     "data": {
      "text/html": [
       "<div>\n",
       "<style scoped>\n",
       "    .dataframe tbody tr th:only-of-type {\n",
       "        vertical-align: middle;\n",
       "    }\n",
       "\n",
       "    .dataframe tbody tr th {\n",
       "        vertical-align: top;\n",
       "    }\n",
       "\n",
       "    .dataframe thead th {\n",
       "        text-align: right;\n",
       "    }\n",
       "</style>\n",
       "<table border=\"1\" class=\"dataframe\">\n",
       "  <thead>\n",
       "    <tr style=\"text-align: right;\">\n",
       "      <th></th>\n",
       "      <th>word</th>\n",
       "      <th>n</th>\n",
       "    </tr>\n",
       "  </thead>\n",
       "  <tbody>\n",
       "    <tr>\n",
       "      <th>0</th>\n",
       "      <td>data</td>\n",
       "      <td>120</td>\n",
       "    </tr>\n",
       "    <tr>\n",
       "      <th>1</th>\n",
       "      <td>research</td>\n",
       "      <td>110</td>\n",
       "    </tr>\n",
       "    <tr>\n",
       "      <th>2</th>\n",
       "      <td>science</td>\n",
       "      <td>70</td>\n",
       "    </tr>\n",
       "    <tr>\n",
       "      <th>3</th>\n",
       "      <td>new</td>\n",
       "      <td>63</td>\n",
       "    </tr>\n",
       "    <tr>\n",
       "      <th>4</th>\n",
       "      <td>challenges</td>\n",
       "      <td>52</td>\n",
       "    </tr>\n",
       "    <tr>\n",
       "      <th>5</th>\n",
       "      <td>many</td>\n",
       "      <td>50</td>\n",
       "    </tr>\n",
       "    <tr>\n",
       "      <th>6</th>\n",
       "      <td>code</td>\n",
       "      <td>48</td>\n",
       "    </tr>\n",
       "    <tr>\n",
       "      <th>7</th>\n",
       "      <td>frictionless</td>\n",
       "      <td>46</td>\n",
       "    </tr>\n",
       "    <tr>\n",
       "      <th>8</th>\n",
       "      <td>sharing</td>\n",
       "      <td>36</td>\n",
       "    </tr>\n",
       "    <tr>\n",
       "      <th>9</th>\n",
       "      <td>reproducibility</td>\n",
       "      <td>36</td>\n",
       "    </tr>\n",
       "  </tbody>\n",
       "</table>\n",
       "</div>"
      ],
      "text/plain": [
       "              word    n\n",
       "0             data  120\n",
       "1         research  110\n",
       "2          science   70\n",
       "3              new   63\n",
       "4       challenges   52\n",
       "5             many   50\n",
       "6             code   48\n",
       "7     frictionless   46\n",
       "8          sharing   36\n",
       "9  reproducibility   36"
      ]
     },
     "execution_count": 10,
     "metadata": {},
     "output_type": "execute_result"
    }
   ],
   "source": [
    "freq = freq.sort_values(\n",
    "    by='n',\n",
    "    ascending=False\n",
    "    )\n",
    "freq.head(10)\n",
    "\n"
   ]
  },
  {
   "cell_type": "code",
   "execution_count": 11,
   "metadata": {
    "collapsed": false
   },
   "outputs": [
    {
     "data": {
      "image/png": "[encoded data removed]",
      "text/plain": [
       "<Figure size 1000x500 with 1 Axes>"
      ]
     },
     "metadata": {},
     "output_type": "display_data"
    }
   ],
   "source": [
    "import matplotlib.pyplot as plt\n",
    "from wordcloud import WordCloud\n",
    "\n",
    "word_freq = dict(\n",
    "    zip(\n",
    "        freq.head(10)['word'],\n",
    "        freq.head(10)['n']\n",
    "        )\n",
    "    )\n",
    "\n",
    "wordcloud = WordCloud(width=800, height=400, background_color='white')\n",
    "# word cloud\n",
    "wordcloud.generate_from_frequencies(word_freq)\n",
    "\n",
    "plt.figure(figsize=(10, 5))\n",
    "plt.imshow(wordcloud)\n",
    "plt.axis('off')\n",
    "plt.show()"
   ]
  },
  {
   "cell_type": "markdown",
   "metadata": {
    "collapsed": false
   },
   "source": [
    "- (12) Write a summary paragraph (at least two statements) about your word cloud. The summary should be cast in the context of your chosen text document."
   ]
  },
  {
   "cell_type": "markdown",
   "metadata": {
    "collapsed": false
   },
   "source": [
    "It's obvious see that the top three most frequent words are `data`,`research`,`science`. We easily identify the main idea of the article by reading this word cloud."
   ]
  },
  {
   "cell_type": "markdown",
   "metadata": {},
   "source": [
    "\\newpage"
   ]
  },
  {
   "cell_type": "markdown",
   "metadata": {},
   "source": [
    "## Question 2\n",
    "\n",
    "uses Johns Hopkins GitHub data on the COVID-19 global vaccine administered to develop a Shiny App."
   ]
  },
  {
   "cell_type": "markdown",
   "metadata": {},
   "source": [
    "- (1) Read the CSV file of [https://raw.githubusercontent.com/govex/COVID-19/master/data_tables/vaccine_data/global_data/time_series_covid19_vaccine_global.csv](https://raw.githubusercontent.com/govex/COVID-19/master/data_tables/vaccine_data/global_data/time_series_covid19_vaccine_global.csv) into Python. Read the data dictionary at [https://github.com/govex/COVID-19/blob/master/data_tables/vaccine_data/global_data/data_dictionary.csv](https://github.com/govex/COVID-19/blob/master/data_tables/vaccine_data/global_data/data_dictionary.csv)."
   ]
  },
  {
   "cell_type": "code",
   "execution_count": 13,
   "metadata": {},
   "outputs": [
    {
     "data": {
      "text/plain": [
       "<bound method DataFrame.info of               Date    UID  Province_State      Country_Region   Doses_admin  \\\n",
       "0       2020-12-29   40.0             NaN             Austria  2.123000e+03   \n",
       "1       2020-12-29   48.0             NaN             Bahrain  5.501400e+04   \n",
       "2       2020-12-29  112.0             NaN             Belarus  0.000000e+00   \n",
       "3       2020-12-29   56.0             NaN             Belgium  3.400000e+02   \n",
       "4       2020-12-29  124.0             NaN              Canada  5.907900e+04   \n",
       "...            ...    ...             ...                 ...           ...   \n",
       "142592  2023-03-09  275.0             NaN  West Bank and Gaza  3.748571e+06   \n",
       "142593  2023-03-09    NaN             NaN               World  1.335626e+10   \n",
       "142594  2023-03-09  887.0             NaN               Yemen  1.256288e+06   \n",
       "142595  2023-03-09  894.0             NaN              Zambia  1.361498e+07   \n",
       "142596  2023-03-09  716.0             NaN            Zimbabwe  1.269485e+07   \n",
       "\n",
       "        People_at_least_one_dose  \n",
       "0                   2.123000e+03  \n",
       "1                   5.501400e+04  \n",
       "2                   0.000000e+00  \n",
       "3                   3.400000e+02  \n",
       "4                   5.907800e+04  \n",
       "...                          ...  \n",
       "142592              2.012767e+06  \n",
       "142593              5.549369e+09  \n",
       "142594              1.017116e+06  \n",
       "142595              1.107664e+07  \n",
       "142596              6.605028e+06  \n",
       "\n",
       "[142597 rows x 6 columns]>"
      ]
     },
     "execution_count": 13,
     "metadata": {},
     "output_type": "execute_result"
    }
   ],
   "source": [
    "covid19_vaccine = pd.read_csv(\"https://raw.githubusercontent.com/govex/COVID-19/master/data_tables/vaccine_data/global_data/time_series_covid19_vaccine_global.csv\")\n",
    "covid19_vaccine.info"
   ]
  },
  {
   "cell_type": "markdown",
   "metadata": {},
   "source": [
    "- (2) Each row is uniquely defined by country and date in the data frame. What is the dimension of the data?"
   ]
  },
  {
   "cell_type": "code",
   "execution_count": 14,
   "metadata": {
    "collapsed": false
   },
   "outputs": [
    {
     "data": {
      "text/plain": [
       "(142597, 6)"
      ]
     },
     "execution_count": 14,
     "metadata": {},
     "output_type": "execute_result"
    }
   ],
   "source": [
    "covid19_vaccine.shape"
   ]
  },
  {
   "cell_type": "markdown",
   "metadata": {
    "collapsed": false
   },
   "source": [
    "The dimension of the dataframe is 142597 rows and 2 columns"
   ]
  },
  {
   "cell_type": "markdown",
   "metadata": {
    "collapsed": false
   },
   "source": [
    "- (3) Look at the data dictionary. Describe the `Doses_admin` and `People at least one dose administered` variables."
   ]
  },
  {
   "cell_type": "markdown",
   "metadata": {
    "collapsed": false
   },
   "source": [
    "`Doses_admin` means Cumulative number of doses administered. When a vaccine requires multiple doses, each one is counted independently. `People at least one dose administered` mean Cumulative number of people who received at least one vaccine dose. When the person receives a prescribed second dose, it is not counted twice\n"
   ]
  },
  {
   "cell_type": "markdown",
   "metadata": {
    "collapsed": false
   },
   "source": [
    "- (4) Identify the data frame column representing the countries. Then, select the rows in the data frame for Canada."
   ]
  },
  {
   "cell_type": "code",
   "execution_count": 16,
   "metadata": {
    "collapsed": false
   },
   "outputs": [
    {
     "data": {
      "text/html": [
       "<div>\n",
       "<style scoped>\n",
       "    .dataframe tbody tr th:only-of-type {\n",
       "        vertical-align: middle;\n",
       "    }\n",
       "\n",
       "    .dataframe tbody tr th {\n",
       "        vertical-align: top;\n",
       "    }\n",
       "\n",
       "    .dataframe thead th {\n",
       "        text-align: right;\n",
       "    }\n",
       "</style>\n",
       "<table border=\"1\" class=\"dataframe\">\n",
       "  <thead>\n",
       "    <tr style=\"text-align: right;\">\n",
       "      <th></th>\n",
       "      <th>Date</th>\n",
       "      <th>UID</th>\n",
       "      <th>Province_State</th>\n",
       "      <th>Country_Region</th>\n",
       "      <th>Doses_admin</th>\n",
       "      <th>People_at_least_one_dose</th>\n",
       "    </tr>\n",
       "  </thead>\n",
       "  <tbody>\n",
       "    <tr>\n",
       "      <th>4</th>\n",
       "      <td>2020-12-29</td>\n",
       "      <td>124.0</td>\n",
       "      <td>NaN</td>\n",
       "      <td>Canada</td>\n",
       "      <td>59079.0</td>\n",
       "      <td>59078.0</td>\n",
       "    </tr>\n",
       "    <tr>\n",
       "      <th>40</th>\n",
       "      <td>2020-12-30</td>\n",
       "      <td>124.0</td>\n",
       "      <td>NaN</td>\n",
       "      <td>Canada</td>\n",
       "      <td>72092.0</td>\n",
       "      <td>72090.0</td>\n",
       "    </tr>\n",
       "    <tr>\n",
       "      <th>76</th>\n",
       "      <td>2020-12-31</td>\n",
       "      <td>124.0</td>\n",
       "      <td>NaN</td>\n",
       "      <td>Canada</td>\n",
       "      <td>80641.0</td>\n",
       "      <td>80639.0</td>\n",
       "    </tr>\n",
       "    <tr>\n",
       "      <th>116</th>\n",
       "      <td>2021-01-01</td>\n",
       "      <td>124.0</td>\n",
       "      <td>NaN</td>\n",
       "      <td>Canada</td>\n",
       "      <td>96170.0</td>\n",
       "      <td>96168.0</td>\n",
       "    </tr>\n",
       "    <tr>\n",
       "      <th>156</th>\n",
       "      <td>2021-01-02</td>\n",
       "      <td>124.0</td>\n",
       "      <td>NaN</td>\n",
       "      <td>Canada</td>\n",
       "      <td>105461.0</td>\n",
       "      <td>105458.0</td>\n",
       "    </tr>\n",
       "    <tr>\n",
       "      <th>...</th>\n",
       "      <td>...</td>\n",
       "      <td>...</td>\n",
       "      <td>...</td>\n",
       "      <td>...</td>\n",
       "      <td>...</td>\n",
       "      <td>...</td>\n",
       "    </tr>\n",
       "    <tr>\n",
       "      <th>141654</th>\n",
       "      <td>2023-03-05</td>\n",
       "      <td>124.0</td>\n",
       "      <td>NaN</td>\n",
       "      <td>Canada</td>\n",
       "      <td>96956502.0</td>\n",
       "      <td>34763194.0</td>\n",
       "    </tr>\n",
       "    <tr>\n",
       "      <th>141849</th>\n",
       "      <td>2023-03-06</td>\n",
       "      <td>124.0</td>\n",
       "      <td>NaN</td>\n",
       "      <td>Canada</td>\n",
       "      <td>96956502.0</td>\n",
       "      <td>34763194.0</td>\n",
       "    </tr>\n",
       "    <tr>\n",
       "      <th>142044</th>\n",
       "      <td>2023-03-07</td>\n",
       "      <td>124.0</td>\n",
       "      <td>NaN</td>\n",
       "      <td>Canada</td>\n",
       "      <td>96956502.0</td>\n",
       "      <td>34763194.0</td>\n",
       "    </tr>\n",
       "    <tr>\n",
       "      <th>142239</th>\n",
       "      <td>2023-03-08</td>\n",
       "      <td>124.0</td>\n",
       "      <td>NaN</td>\n",
       "      <td>Canada</td>\n",
       "      <td>96956502.0</td>\n",
       "      <td>34763194.0</td>\n",
       "    </tr>\n",
       "    <tr>\n",
       "      <th>142434</th>\n",
       "      <td>2023-03-09</td>\n",
       "      <td>124.0</td>\n",
       "      <td>NaN</td>\n",
       "      <td>Canada</td>\n",
       "      <td>96956502.0</td>\n",
       "      <td>34763194.0</td>\n",
       "    </tr>\n",
       "  </tbody>\n",
       "</table>\n",
       "<p>801 rows × 6 columns</p>\n",
       "</div>"
      ],
      "text/plain": [
       "              Date    UID  Province_State Country_Region  Doses_admin  \\\n",
       "4       2020-12-29  124.0             NaN         Canada      59079.0   \n",
       "40      2020-12-30  124.0             NaN         Canada      72092.0   \n",
       "76      2020-12-31  124.0             NaN         Canada      80641.0   \n",
       "116     2021-01-01  124.0             NaN         Canada      96170.0   \n",
       "156     2021-01-02  124.0             NaN         Canada     105461.0   \n",
       "...            ...    ...             ...            ...          ...   \n",
       "141654  2023-03-05  124.0             NaN         Canada   96956502.0   \n",
       "141849  2023-03-06  124.0             NaN         Canada   96956502.0   \n",
       "142044  2023-03-07  124.0             NaN         Canada   96956502.0   \n",
       "142239  2023-03-08  124.0             NaN         Canada   96956502.0   \n",
       "142434  2023-03-09  124.0             NaN         Canada   96956502.0   \n",
       "\n",
       "        People_at_least_one_dose  \n",
       "4                        59078.0  \n",
       "40                       72090.0  \n",
       "76                       80639.0  \n",
       "116                      96168.0  \n",
       "156                     105458.0  \n",
       "...                          ...  \n",
       "141654                34763194.0  \n",
       "141849                34763194.0  \n",
       "142044                34763194.0  \n",
       "142239                34763194.0  \n",
       "142434                34763194.0  \n",
       "\n",
       "[801 rows x 6 columns]"
      ]
     },
     "execution_count": 16,
     "metadata": {},
     "output_type": "execute_result"
    }
   ],
   "source": [
    "canada_covid_data = covid19_vaccine[covid19_vaccine['Country_Region'] == 'Canada']\n",
    "canada_covid_data"
   ]
  },
  {
   "cell_type": "markdown",
   "metadata": {
    "collapsed": false
   },
   "source": [
    "- (5) Use only the Canada vaccine data to answer the rest of the questions. Plot the time series data of `Dose_dmin` and `People_at_least_one_dose` in the same graph. Label the time series lines by `Doses Administered` and `People at least one dose administered`, respectively. Convert the y-axis to the log scale. Rotate the x-axis ticks by 45 degrees."
   ]
  },
  {
   "cell_type": "code",
   "execution_count": 33,
   "metadata": {
    "collapsed": false
   },
   "outputs": [
    {
     "data": {
      "image/png": "[encoded data removed]",
      "text/plain": [
       "<Figure size 640x480 with 1 Axes>"
      ]
     },
     "metadata": {},
     "output_type": "display_data"
    }
   ],
   "source": [
    "plt.plot(canada_covid_data['Date'], canada_covid_data['Doses_admin'],label='Doses_admin')\n",
    "plt.plot(canada_covid_data['Date'], canada_covid_data['People_at_least_one_dose'],label='People_at_least_one_dose')\n",
    "\n",
    "\n",
    "plt.yscale(\"log\")\n",
    "plt.xticks(canada_covid_data.Date[::100],rotation=45)\n",
    "plt.xlabel(\"Date\")\n",
    "plt.legend(loc=\"lower right\")\n",
    "\n",
    "plt.show()\n"
   ]
  },
  {
   "cell_type": "markdown",
   "metadata": {
    "collapsed": false
   },
   "source": [
    "- (6) Describe the plot in the context of data."
   ]
  },
  {
   "cell_type": "markdown",
   "metadata": {
    "collapsed": false
   },
   "source": [
    "During time 2020-12-29 to 2021-07-17 both Doses_admin and People_at_least_one_dose increase in a very similar rate, which implies many people are taking their first doses right away while the doses are being administered.\n"
   ]
  },
  {
   "cell_type": "markdown",
   "metadata": {
    "collapsed": false
   },
   "source": [
    "- (7) Create the Shiny app as follows. In the Shiny app, the user input is any starting and ending dates. The range of dates may be `2020-12-29` to `2023-03-09`. The output is the time series plot for the logarithm of the `doses administrated` and `people at least one dose administrated` in Canada for the range of dates the users choose. You can use the following template to create the Shiny app."
   ]
  },
  {
   "cell_type": "code",
   "execution_count": 20,
   "metadata": {
    "collapsed": false
   },
   "outputs": [
    {
     "data": {
      "text/plain": [
       "'0.7.1'"
      ]
     },
     "execution_count": 20,
     "metadata": {},
     "output_type": "execute_result"
    }
   ],
   "source": [
    "#| eval:false\n",
    "\n",
    "from shiny import App, render, ui\n",
    "\n",
    "\n",
    "import pandas as pd\n",
    "import matplotlib.pyplot as plt\n",
    "app_ui = ui.page_fluid(\n",
    "    ui.h1(\"COVID-19 Vaccination in Canada\"),\n",
    "    ui.input_date_range(\n",
    "        \"daterange\",\n",
    "        \"Date range: (Choose a date range)\",\n",
    "        start=\"2020-12-29\",\n",
    "        end= '2023-03-09'\n",
    "        ),\n",
    "    ui.output_plot('myplot'),\n",
    ")\n",
    "\n",
    "def server(input, output, session):\n",
    "    @output\n",
    "    @render.plot\n",
    "    def myplot():\n",
    "\n",
    "\n",
    "        covid19_vaccine = pd.read_csv(\"https://raw.githubusercontent.com/govex/COVID-19/master/data_tables/vaccine_data/global_data/time_series_covid19_vaccine_global.csv\")\n",
    "        canada_covid_data = covid19_vaccine[covid19_vaccine['Country_Region'] == 'Canada']\n",
    "        canada_covid_data['Date'] = pd.to_datetime(canada_covid_data['Date'])\n",
    "\n",
    "        df = canada_covid_data\n",
    "\n",
    "\n",
    "        df = df[df['Date'] > pd.Timestamp(input.daterange()[0])]\n",
    "        df = df[df['Date'] < pd.Timestamp(input.daterange()[1])]\n",
    "\n",
    "        plt.plot(df['Date'], df['Doses_admin'],label='Doses_admin')\n",
    "        plt.plot(df['Date'], df['People_at_least_one_dose'],label='People_at_least_one_dose')\n",
    "        plt.yscale(\"log\")\n",
    "        plt.xticks(rotation=45)\n",
    "        plt.legend(loc=\"lower right\")\n",
    "\n",
    "app = App(app_ui, server)"
   ]
  },
  {
   "cell_type": "markdown",
   "metadata": {
    "collapsed": false
   },
   "source": [
    "- (8) Deploy your Shiny app at [https://www.shinyapps.io/](https://www.shinyapps.io/). Then, provide the link to the app."
   ]
  },
  {
   "cell_type": "markdown",
   "metadata": {
    "collapsed": false
   },
   "source": [
    " [https://haoyuanchen.shinyapps.io/3da3_a2_v1/](https://haoyuanchen.shinyapps.io/3da3_a2_v1/)"
   ]
  }
 ],
 "metadata": {
  "kernelspec": {
   "display_name": ".venv",
   "language": "python",
   "name": "python3"
  },
  "language_info": {
   "codemirror_mode": {
    "name": "ipython",
    "version": 3
   },
   "file_extension": ".py",
   "mimetype": "text/x-python",
   "name": "python",
   "nbconvert_exporter": "python",
   "pygments_lexer": "ipython3",
   "version": "3.11.5"
  }
 },
 "nbformat": 4,
 "nbformat_minor": 2
}
